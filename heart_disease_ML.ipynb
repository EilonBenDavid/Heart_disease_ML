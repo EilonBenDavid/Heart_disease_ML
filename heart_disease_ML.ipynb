{
 "cells": [
  {
   "cell_type": "code",
   "execution_count": 1,
   "metadata": {},
   "outputs": [],
   "source": [
    "import pandas as pd\n",
    "import numpy as np\n",
    "import matplotlib.pyplot as plt\n",
    "import seaborn as sns\n",
    "import math\n",
    "from sklearn.tree import DecisionTreeClassifier\n",
    "from sklearn.neighbors import KNeighborsClassifier\n",
    "from sklearn.svm import SVC\n",
    "from sklearn.ensemble import VotingClassifier\n",
    "from sklearn.model_selection import train_test_split\n",
    "from sklearn.linear_model import LogisticRegression\n",
    "from sklearn.naive_bayes import GaussianNB\n",
    "from sklearn.preprocessing import StandardScaler"
   ]
  },
  {
   "cell_type": "code",
   "execution_count": 3,
   "metadata": {},
   "outputs": [
    {
     "data": {
      "text/html": [
       "<div>\n",
       "<style scoped>\n",
       "    .dataframe tbody tr th:only-of-type {\n",
       "        vertical-align: middle;\n",
       "    }\n",
       "\n",
       "    .dataframe tbody tr th {\n",
       "        vertical-align: top;\n",
       "    }\n",
       "\n",
       "    .dataframe thead th {\n",
       "        text-align: right;\n",
       "    }\n",
       "</style>\n",
       "<table border=\"1\" class=\"dataframe\">\n",
       "  <thead>\n",
       "    <tr style=\"text-align: right;\">\n",
       "      <th></th>\n",
       "      <th>male</th>\n",
       "      <th>age</th>\n",
       "      <th>education</th>\n",
       "      <th>currentSmoker</th>\n",
       "      <th>cigsPerDay</th>\n",
       "      <th>BPMeds</th>\n",
       "      <th>prevalentStroke</th>\n",
       "      <th>prevalentHyp</th>\n",
       "      <th>diabetes</th>\n",
       "      <th>totChol</th>\n",
       "      <th>sysBP</th>\n",
       "      <th>diaBP</th>\n",
       "      <th>BMI</th>\n",
       "      <th>heartRate</th>\n",
       "      <th>glucose</th>\n",
       "      <th>TenYearCHD</th>\n",
       "      <th>age_group</th>\n",
       "    </tr>\n",
       "  </thead>\n",
       "  <tbody>\n",
       "    <tr>\n",
       "      <th>count</th>\n",
       "      <td>4233.000000</td>\n",
       "      <td>4233.000000</td>\n",
       "      <td>4233.000000</td>\n",
       "      <td>4233.00000</td>\n",
       "      <td>4233.000000</td>\n",
       "      <td>4233.000000</td>\n",
       "      <td>4233.000000</td>\n",
       "      <td>4233.000000</td>\n",
       "      <td>4233.000000</td>\n",
       "      <td>4233.000000</td>\n",
       "      <td>4233.000000</td>\n",
       "      <td>4233.000000</td>\n",
       "      <td>4233.000000</td>\n",
       "      <td>4233.000000</td>\n",
       "      <td>4233.000000</td>\n",
       "      <td>4233.000000</td>\n",
       "      <td>4233.000000</td>\n",
       "    </tr>\n",
       "    <tr>\n",
       "      <th>mean</th>\n",
       "      <td>0.429246</td>\n",
       "      <td>49.584928</td>\n",
       "      <td>1.979447</td>\n",
       "      <td>0.49374</td>\n",
       "      <td>9.072053</td>\n",
       "      <td>0.029294</td>\n",
       "      <td>0.005906</td>\n",
       "      <td>0.310418</td>\n",
       "      <td>0.024805</td>\n",
       "      <td>236.762002</td>\n",
       "      <td>132.325301</td>\n",
       "      <td>82.894047</td>\n",
       "      <td>25.801550</td>\n",
       "      <td>75.887078</td>\n",
       "      <td>81.860099</td>\n",
       "      <td>0.151429</td>\n",
       "      <td>2.509095</td>\n",
       "    </tr>\n",
       "    <tr>\n",
       "      <th>std</th>\n",
       "      <td>0.495027</td>\n",
       "      <td>8.572907</td>\n",
       "      <td>1.007206</td>\n",
       "      <td>0.50002</td>\n",
       "      <td>11.915513</td>\n",
       "      <td>0.168648</td>\n",
       "      <td>0.076632</td>\n",
       "      <td>0.462719</td>\n",
       "      <td>0.155549</td>\n",
       "      <td>44.364418</td>\n",
       "      <td>22.015185</td>\n",
       "      <td>11.909887</td>\n",
       "      <td>4.070491</td>\n",
       "      <td>12.024569</td>\n",
       "      <td>23.145859</td>\n",
       "      <td>0.358509</td>\n",
       "      <td>0.915357</td>\n",
       "    </tr>\n",
       "    <tr>\n",
       "      <th>min</th>\n",
       "      <td>0.000000</td>\n",
       "      <td>32.000000</td>\n",
       "      <td>1.000000</td>\n",
       "      <td>0.00000</td>\n",
       "      <td>0.000000</td>\n",
       "      <td>0.000000</td>\n",
       "      <td>0.000000</td>\n",
       "      <td>0.000000</td>\n",
       "      <td>0.000000</td>\n",
       "      <td>107.000000</td>\n",
       "      <td>83.500000</td>\n",
       "      <td>48.000000</td>\n",
       "      <td>15.540000</td>\n",
       "      <td>44.000000</td>\n",
       "      <td>40.000000</td>\n",
       "      <td>0.000000</td>\n",
       "      <td>1.000000</td>\n",
       "    </tr>\n",
       "    <tr>\n",
       "      <th>25%</th>\n",
       "      <td>0.000000</td>\n",
       "      <td>42.000000</td>\n",
       "      <td>1.000000</td>\n",
       "      <td>0.00000</td>\n",
       "      <td>0.000000</td>\n",
       "      <td>0.000000</td>\n",
       "      <td>0.000000</td>\n",
       "      <td>0.000000</td>\n",
       "      <td>0.000000</td>\n",
       "      <td>206.000000</td>\n",
       "      <td>117.000000</td>\n",
       "      <td>75.000000</td>\n",
       "      <td>23.080000</td>\n",
       "      <td>68.000000</td>\n",
       "      <td>71.000000</td>\n",
       "      <td>0.000000</td>\n",
       "      <td>2.000000</td>\n",
       "    </tr>\n",
       "    <tr>\n",
       "      <th>50%</th>\n",
       "      <td>0.000000</td>\n",
       "      <td>49.000000</td>\n",
       "      <td>2.000000</td>\n",
       "      <td>0.00000</td>\n",
       "      <td>0.000000</td>\n",
       "      <td>0.000000</td>\n",
       "      <td>0.000000</td>\n",
       "      <td>0.000000</td>\n",
       "      <td>0.000000</td>\n",
       "      <td>234.000000</td>\n",
       "      <td>128.000000</td>\n",
       "      <td>82.000000</td>\n",
       "      <td>25.400000</td>\n",
       "      <td>75.000000</td>\n",
       "      <td>78.000000</td>\n",
       "      <td>0.000000</td>\n",
       "      <td>2.000000</td>\n",
       "    </tr>\n",
       "    <tr>\n",
       "      <th>75%</th>\n",
       "      <td>1.000000</td>\n",
       "      <td>56.000000</td>\n",
       "      <td>3.000000</td>\n",
       "      <td>1.00000</td>\n",
       "      <td>20.000000</td>\n",
       "      <td>0.000000</td>\n",
       "      <td>0.000000</td>\n",
       "      <td>1.000000</td>\n",
       "      <td>0.000000</td>\n",
       "      <td>262.000000</td>\n",
       "      <td>144.000000</td>\n",
       "      <td>89.500000</td>\n",
       "      <td>28.030000</td>\n",
       "      <td>83.000000</td>\n",
       "      <td>87.000000</td>\n",
       "      <td>0.000000</td>\n",
       "      <td>3.000000</td>\n",
       "    </tr>\n",
       "    <tr>\n",
       "      <th>max</th>\n",
       "      <td>1.000000</td>\n",
       "      <td>70.000000</td>\n",
       "      <td>4.000000</td>\n",
       "      <td>1.00000</td>\n",
       "      <td>70.000000</td>\n",
       "      <td>1.000000</td>\n",
       "      <td>1.000000</td>\n",
       "      <td>1.000000</td>\n",
       "      <td>1.000000</td>\n",
       "      <td>696.000000</td>\n",
       "      <td>295.000000</td>\n",
       "      <td>142.500000</td>\n",
       "      <td>56.800000</td>\n",
       "      <td>143.000000</td>\n",
       "      <td>394.000000</td>\n",
       "      <td>1.000000</td>\n",
       "      <td>4.000000</td>\n",
       "    </tr>\n",
       "  </tbody>\n",
       "</table>\n",
       "</div>"
      ],
      "text/plain": [
       "              male          age    education  currentSmoker   cigsPerDay  \\\n",
       "count  4233.000000  4233.000000  4233.000000     4233.00000  4233.000000   \n",
       "mean      0.429246    49.584928     1.979447        0.49374     9.072053   \n",
       "std       0.495027     8.572907     1.007206        0.50002    11.915513   \n",
       "min       0.000000    32.000000     1.000000        0.00000     0.000000   \n",
       "25%       0.000000    42.000000     1.000000        0.00000     0.000000   \n",
       "50%       0.000000    49.000000     2.000000        0.00000     0.000000   \n",
       "75%       1.000000    56.000000     3.000000        1.00000    20.000000   \n",
       "max       1.000000    70.000000     4.000000        1.00000    70.000000   \n",
       "\n",
       "            BPMeds  prevalentStroke  prevalentHyp     diabetes      totChol  \\\n",
       "count  4233.000000      4233.000000   4233.000000  4233.000000  4233.000000   \n",
       "mean      0.029294         0.005906      0.310418     0.024805   236.762002   \n",
       "std       0.168648         0.076632      0.462719     0.155549    44.364418   \n",
       "min       0.000000         0.000000      0.000000     0.000000   107.000000   \n",
       "25%       0.000000         0.000000      0.000000     0.000000   206.000000   \n",
       "50%       0.000000         0.000000      0.000000     0.000000   234.000000   \n",
       "75%       0.000000         0.000000      1.000000     0.000000   262.000000   \n",
       "max       1.000000         1.000000      1.000000     1.000000   696.000000   \n",
       "\n",
       "             sysBP        diaBP          BMI    heartRate      glucose  \\\n",
       "count  4233.000000  4233.000000  4233.000000  4233.000000  4233.000000   \n",
       "mean    132.325301    82.894047    25.801550    75.887078    81.860099   \n",
       "std      22.015185    11.909887     4.070491    12.024569    23.145859   \n",
       "min      83.500000    48.000000    15.540000    44.000000    40.000000   \n",
       "25%     117.000000    75.000000    23.080000    68.000000    71.000000   \n",
       "50%     128.000000    82.000000    25.400000    75.000000    78.000000   \n",
       "75%     144.000000    89.500000    28.030000    83.000000    87.000000   \n",
       "max     295.000000   142.500000    56.800000   143.000000   394.000000   \n",
       "\n",
       "        TenYearCHD    age_group  \n",
       "count  4233.000000  4233.000000  \n",
       "mean      0.151429     2.509095  \n",
       "std       0.358509     0.915357  \n",
       "min       0.000000     1.000000  \n",
       "25%       0.000000     2.000000  \n",
       "50%       0.000000     2.000000  \n",
       "75%       0.000000     3.000000  \n",
       "max       1.000000     4.000000  "
      ]
     },
     "execution_count": 3,
     "metadata": {},
     "output_type": "execute_result"
    }
   ],
   "source": [
    "df = pd.read_csv('C:/Users/eilon_bd/תוכן מקצועי/Python Projects/heart_disease/heart_disease_after_prep.csv')\n",
    "df.drop('Unnamed: 0',axis=1,inplace=True)\n",
    "df.describe()"
   ]
  },
  {
   "cell_type": "code",
   "execution_count": 5,
   "metadata": {},
   "outputs": [
    {
     "data": {
      "text/html": [
       "<div>\n",
       "<style scoped>\n",
       "    .dataframe tbody tr th:only-of-type {\n",
       "        vertical-align: middle;\n",
       "    }\n",
       "\n",
       "    .dataframe tbody tr th {\n",
       "        vertical-align: top;\n",
       "    }\n",
       "\n",
       "    .dataframe thead th {\n",
       "        text-align: right;\n",
       "    }\n",
       "</style>\n",
       "<table border=\"1\" class=\"dataframe\">\n",
       "  <thead>\n",
       "    <tr style=\"text-align: right;\">\n",
       "      <th></th>\n",
       "      <th>presicsion</th>\n",
       "      <th>recall</th>\n",
       "      <th>f1-scores</th>\n",
       "    </tr>\n",
       "  </thead>\n",
       "  <tbody>\n",
       "  </tbody>\n",
       "</table>\n",
       "</div>"
      ],
      "text/plain": [
       "Empty DataFrame\n",
       "Columns: [presicsion, recall, f1-scores]\n",
       "Index: []"
      ]
     },
     "execution_count": 5,
     "metadata": {},
     "output_type": "execute_result"
    }
   ],
   "source": [
    "df_scores=pd.DataFrame(columns=['presicsion','recall','f1-scores'])\n",
    "df_scores"
   ]
  },
  {
   "cell_type": "markdown",
   "metadata": {},
   "source": [
    "# LOGISTIC REGRESSION"
   ]
  },
  {
   "cell_type": "code",
   "execution_count": 6,
   "metadata": {},
   "outputs": [],
   "source": [
    "import sklearn.linear_model as sklin"
   ]
  },
  {
   "cell_type": "code",
   "execution_count": 7,
   "metadata": {},
   "outputs": [],
   "source": [
    "model = sklin.LogisticRegression(solver='lbfgs', max_iter=1000)"
   ]
  },
  {
   "cell_type": "code",
   "execution_count": 8,
   "metadata": {},
   "outputs": [],
   "source": [
    "X=df.drop(['TenYearCHD'],axis=1)\n",
    "y=df['TenYearCHD']"
   ]
  },
  {
   "cell_type": "code",
   "execution_count": 9,
   "metadata": {},
   "outputs": [],
   "source": [
    "X_train, X_test, y_train, y_test = train_test_split(X,y, test_size=0.33, random_state=42)"
   ]
  },
  {
   "cell_type": "code",
   "execution_count": 10,
   "metadata": {},
   "outputs": [
    {
     "name": "stderr",
     "output_type": "stream",
     "text": [
      "C:\\Users\\eilon_bd\\Anaconda3\\lib\\site-packages\\sklearn\\linear_model\\_logistic.py:764: ConvergenceWarning: lbfgs failed to converge (status=1):\n",
      "STOP: TOTAL NO. of ITERATIONS REACHED LIMIT.\n",
      "\n",
      "Increase the number of iterations (max_iter) or scale the data as shown in:\n",
      "    https://scikit-learn.org/stable/modules/preprocessing.html\n",
      "Please also refer to the documentation for alternative solver options:\n",
      "    https://scikit-learn.org/stable/modules/linear_model.html#logistic-regression\n",
      "  extra_warning_msg=_LOGISTIC_SOLVER_CONVERGENCE_MSG)\n"
     ]
    },
    {
     "data": {
      "text/plain": [
       "LogisticRegression(max_iter=1000)"
      ]
     },
     "execution_count": 10,
     "metadata": {},
     "output_type": "execute_result"
    }
   ],
   "source": [
    "model.fit(X_train,y_train)"
   ]
  },
  {
   "cell_type": "code",
   "execution_count": 11,
   "metadata": {},
   "outputs": [],
   "source": [
    "pred = model.predict(X_test)"
   ]
  },
  {
   "cell_type": "code",
   "execution_count": 12,
   "metadata": {},
   "outputs": [],
   "source": [
    "import sklearn.metrics as skmet"
   ]
  },
  {
   "cell_type": "code",
   "execution_count": 13,
   "metadata": {},
   "outputs": [
    {
     "name": "stdout",
     "output_type": "stream",
     "text": [
      "[[1189    9]\n",
      " [ 177   22]]\n"
     ]
    }
   ],
   "source": [
    "print(skmet.confusion_matrix(y_test,pred))"
   ]
  },
  {
   "cell_type": "code",
   "execution_count": 14,
   "metadata": {},
   "outputs": [
    {
     "name": "stdout",
     "output_type": "stream",
     "text": [
      "              precision    recall  f1-score   support\n",
      "\n",
      "           0       0.87      0.99      0.93      1198\n",
      "           1       0.71      0.11      0.19       199\n",
      "\n",
      "    accuracy                           0.87      1397\n",
      "   macro avg       0.79      0.55      0.56      1397\n",
      "weighted avg       0.85      0.87      0.82      1397\n",
      "\n"
     ]
    }
   ],
   "source": [
    "print(skmet.classification_report(y_test,pred))"
   ]
  },
  {
   "cell_type": "code",
   "execution_count": 15,
   "metadata": {},
   "outputs": [
    {
     "data": {
      "text/html": [
       "<div>\n",
       "<style scoped>\n",
       "    .dataframe tbody tr th:only-of-type {\n",
       "        vertical-align: middle;\n",
       "    }\n",
       "\n",
       "    .dataframe tbody tr th {\n",
       "        vertical-align: top;\n",
       "    }\n",
       "\n",
       "    .dataframe thead th {\n",
       "        text-align: right;\n",
       "    }\n",
       "</style>\n",
       "<table border=\"1\" class=\"dataframe\">\n",
       "  <thead>\n",
       "    <tr style=\"text-align: right;\">\n",
       "      <th></th>\n",
       "      <th>presicsion</th>\n",
       "      <th>recall</th>\n",
       "      <th>f1-scores</th>\n",
       "    </tr>\n",
       "  </thead>\n",
       "  <tbody>\n",
       "    <tr>\n",
       "      <th>Logistic Regression</th>\n",
       "      <td>0.709677</td>\n",
       "      <td>0.110553</td>\n",
       "      <td>0.191304</td>\n",
       "    </tr>\n",
       "  </tbody>\n",
       "</table>\n",
       "</div>"
      ],
      "text/plain": [
       "                    presicsion    recall f1-scores\n",
       "Logistic Regression   0.709677  0.110553  0.191304"
      ]
     },
     "execution_count": 15,
     "metadata": {},
     "output_type": "execute_result"
    }
   ],
   "source": [
    "df_scores.loc['Logistic Regression',:] = [skmet.precision_score(y_test,pred)\\\n",
    "                                          ,skmet.recall_score(y_test,pred)\\\n",
    "                                          ,skmet.f1_score(y_test,pred)]\n",
    "df_scores"
   ]
  },
  {
   "cell_type": "markdown",
   "metadata": {},
   "source": [
    "# Unbalanced Data"
   ]
  },
  {
   "cell_type": "code",
   "execution_count": 16,
   "metadata": {},
   "outputs": [
    {
     "data": {
      "text/plain": [
       "0.1514292463973541"
      ]
     },
     "execution_count": 16,
     "metadata": {},
     "output_type": "execute_result"
    }
   ],
   "source": [
    "sum(df['TenYearCHD'])/len(df)"
   ]
  },
  {
   "cell_type": "code",
   "execution_count": 17,
   "metadata": {},
   "outputs": [
    {
     "data": {
      "text/plain": [
       "<matplotlib.axes._subplots.AxesSubplot at 0x1210a380708>"
      ]
     },
     "execution_count": 17,
     "metadata": {},
     "output_type": "execute_result"
    },
    {
     "data": {
      "image/png": "[encoded data removed]",
      "text/plain": [
       "<Figure size 432x288 with 1 Axes>"
      ]
     },
     "metadata": {
      "needs_background": "light"
     },
     "output_type": "display_data"
    }
   ],
   "source": [
    "sns.countplot(df['TenYearCHD'])"
   ]
  },
  {
   "cell_type": "code",
   "execution_count": 18,
   "metadata": {},
   "outputs": [],
   "source": [
    "from imblearn.over_sampling import SMOTE\n",
    "smote = SMOTE(k_neighbors=5)\n",
    "X_smote, y_smote = smote.fit_sample(X_train, y_train)"
   ]
  },
  {
   "cell_type": "code",
   "execution_count": 19,
   "metadata": {},
   "outputs": [
    {
     "name": "stderr",
     "output_type": "stream",
     "text": [
      "C:\\Users\\eilon_bd\\Anaconda3\\lib\\site-packages\\sklearn\\linear_model\\_logistic.py:764: ConvergenceWarning: lbfgs failed to converge (status=1):\n",
      "STOP: TOTAL NO. of ITERATIONS REACHED LIMIT.\n",
      "\n",
      "Increase the number of iterations (max_iter) or scale the data as shown in:\n",
      "    https://scikit-learn.org/stable/modules/preprocessing.html\n",
      "Please also refer to the documentation for alternative solver options:\n",
      "    https://scikit-learn.org/stable/modules/linear_model.html#logistic-regression\n",
      "  extra_warning_msg=_LOGISTIC_SOLVER_CONVERGENCE_MSG)\n"
     ]
    },
    {
     "data": {
      "text/plain": [
       "LogisticRegression()"
      ]
     },
     "execution_count": 19,
     "metadata": {},
     "output_type": "execute_result"
    }
   ],
   "source": [
    "model = sklin.LogisticRegression()\n",
    "model.fit(X_smote,y_smote)"
   ]
  },
  {
   "cell_type": "code",
   "execution_count": 20,
   "metadata": {},
   "outputs": [],
   "source": [
    "pred = model.predict(X_test)"
   ]
  },
  {
   "cell_type": "code",
   "execution_count": 21,
   "metadata": {
    "scrolled": true
   },
   "outputs": [
    {
     "name": "stdout",
     "output_type": "stream",
     "text": [
      "[[757 441]\n",
      " [ 75 124]]\n",
      "              precision    recall  f1-score   support\n",
      "\n",
      "           0       0.91      0.63      0.75      1198\n",
      "           1       0.22      0.62      0.32       199\n",
      "\n",
      "    accuracy                           0.63      1397\n",
      "   macro avg       0.56      0.63      0.54      1397\n",
      "weighted avg       0.81      0.63      0.69      1397\n",
      "\n"
     ]
    }
   ],
   "source": [
    "print(skmet.confusion_matrix(y_test,pred))\n",
    "print(skmet.classification_report(y_test,pred))"
   ]
  },
  {
   "cell_type": "code",
   "execution_count": 22,
   "metadata": {},
   "outputs": [],
   "source": [
    "df_scores.loc['Logistic Regression with smote',:] = [skmet.precision_score(y_test,pred)\\\n",
    "                                          ,skmet.recall_score(y_test,pred)\\\n",
    "                                          ,skmet.f1_score(y_test,pred)]"
   ]
  },
  {
   "cell_type": "markdown",
   "metadata": {},
   "source": [
    "# Ordinary Least Squares with Logistic Regression"
   ]
  },
  {
   "cell_type": "code",
   "execution_count": 23,
   "metadata": {},
   "outputs": [],
   "source": [
    "import statsmodels.api as st"
   ]
  },
  {
   "cell_type": "code",
   "execution_count": 24,
   "metadata": {},
   "outputs": [],
   "source": [
    "x_con = st.add_constant(X_smote)"
   ]
  },
  {
   "cell_type": "code",
   "execution_count": 25,
   "metadata": {},
   "outputs": [],
   "source": [
    "res = st.OLS(y_smote,x_con).fit()"
   ]
  },
  {
   "cell_type": "code",
   "execution_count": 26,
   "metadata": {},
   "outputs": [
    {
     "data": {
      "text/plain": [
       "const             -0.717998\n",
       "male              -0.087842\n",
       "age                0.002863\n",
       "education         -0.010002\n",
       "currentSmoker     -0.246396\n",
       "cigsPerDay         0.014120\n",
       "BPMeds             0.194779\n",
       "prevalentStroke   -0.140255\n",
       "prevalentHyp      -0.140181\n",
       "diabetes          -0.061070\n",
       "totChol           -0.000075\n",
       "sysBP              0.003281\n",
       "diaBP              0.003192\n",
       "BMI               -0.000522\n",
       "heartRate          0.000256\n",
       "glucose            0.001289\n",
       "age_group          0.120785\n",
       "dtype: float64"
      ]
     },
     "execution_count": 26,
     "metadata": {},
     "output_type": "execute_result"
    }
   ],
   "source": [
    "res.params"
   ]
  },
  {
   "cell_type": "code",
   "execution_count": 27,
   "metadata": {},
   "outputs": [
    {
     "data": {
      "text/html": [
       "<table class=\"simpletable\">\n",
       "<caption>OLS Regression Results</caption>\n",
       "<tr>\n",
       "  <th>Dep. Variable:</th>       <td>TenYearCHD</td>    <th>  R-squared:         </th> <td>   0.180</td> \n",
       "</tr>\n",
       "<tr>\n",
       "  <th>Model:</th>                   <td>OLS</td>       <th>  Adj. R-squared:    </th> <td>   0.177</td> \n",
       "</tr>\n",
       "<tr>\n",
       "  <th>Method:</th>             <td>Least Squares</td>  <th>  F-statistic:       </th> <td>   65.34</td> \n",
       "</tr>\n",
       "<tr>\n",
       "  <th>Date:</th>             <td>Fri, 09 Jul 2021</td> <th>  Prob (F-statistic):</th> <td>2.96e-191</td>\n",
       "</tr>\n",
       "<tr>\n",
       "  <th>Time:</th>                 <td>11:46:43</td>     <th>  Log-Likelihood:    </th> <td> -3000.8</td> \n",
       "</tr>\n",
       "<tr>\n",
       "  <th>No. Observations:</th>      <td>  4788</td>      <th>  AIC:               </th> <td>   6036.</td> \n",
       "</tr>\n",
       "<tr>\n",
       "  <th>Df Residuals:</th>          <td>  4771</td>      <th>  BIC:               </th> <td>   6146.</td> \n",
       "</tr>\n",
       "<tr>\n",
       "  <th>Df Model:</th>              <td>    16</td>      <th>                     </th>     <td> </td>    \n",
       "</tr>\n",
       "<tr>\n",
       "  <th>Covariance Type:</th>      <td>nonrobust</td>    <th>                     </th>     <td> </td>    \n",
       "</tr>\n",
       "</table>\n",
       "<table class=\"simpletable\">\n",
       "<tr>\n",
       "         <td></td>            <th>coef</th>     <th>std err</th>      <th>t</th>      <th>P>|t|</th>  <th>[0.025</th>    <th>0.975]</th>  \n",
       "</tr>\n",
       "<tr>\n",
       "  <th>const</th>           <td>   -0.7180</td> <td>    0.114</td> <td>   -6.281</td> <td> 0.000</td> <td>   -0.942</td> <td>   -0.494</td>\n",
       "</tr>\n",
       "<tr>\n",
       "  <th>male</th>            <td>   -0.0878</td> <td>    0.015</td> <td>   -5.865</td> <td> 0.000</td> <td>   -0.117</td> <td>   -0.058</td>\n",
       "</tr>\n",
       "<tr>\n",
       "  <th>age</th>             <td>    0.0029</td> <td>    0.003</td> <td>    1.072</td> <td> 0.284</td> <td>   -0.002</td> <td>    0.008</td>\n",
       "</tr>\n",
       "<tr>\n",
       "  <th>education</th>       <td>   -0.0100</td> <td>    0.007</td> <td>   -1.375</td> <td> 0.169</td> <td>   -0.024</td> <td>    0.004</td>\n",
       "</tr>\n",
       "<tr>\n",
       "  <th>currentSmoker</th>   <td>   -0.2464</td> <td>    0.022</td> <td>  -11.157</td> <td> 0.000</td> <td>   -0.290</td> <td>   -0.203</td>\n",
       "</tr>\n",
       "<tr>\n",
       "  <th>cigsPerDay</th>      <td>    0.0141</td> <td>    0.001</td> <td>   15.588</td> <td> 0.000</td> <td>    0.012</td> <td>    0.016</td>\n",
       "</tr>\n",
       "<tr>\n",
       "  <th>BPMeds</th>          <td>    0.1948</td> <td>    0.038</td> <td>    5.170</td> <td> 0.000</td> <td>    0.121</td> <td>    0.269</td>\n",
       "</tr>\n",
       "<tr>\n",
       "  <th>prevalentStroke</th> <td>   -0.1403</td> <td>    0.122</td> <td>   -1.152</td> <td> 0.249</td> <td>   -0.379</td> <td>    0.098</td>\n",
       "</tr>\n",
       "<tr>\n",
       "  <th>prevalentHyp</th>    <td>   -0.1402</td> <td>    0.020</td> <td>   -7.043</td> <td> 0.000</td> <td>   -0.179</td> <td>   -0.101</td>\n",
       "</tr>\n",
       "<tr>\n",
       "  <th>diabetes</th>        <td>   -0.0611</td> <td>    0.059</td> <td>   -1.040</td> <td> 0.298</td> <td>   -0.176</td> <td>    0.054</td>\n",
       "</tr>\n",
       "<tr>\n",
       "  <th>totChol</th>         <td>-7.472e-05</td> <td>    0.000</td> <td>   -0.494</td> <td> 0.621</td> <td>   -0.000</td> <td>    0.000</td>\n",
       "</tr>\n",
       "<tr>\n",
       "  <th>sysBP</th>           <td>    0.0033</td> <td>    0.001</td> <td>    5.650</td> <td> 0.000</td> <td>    0.002</td> <td>    0.004</td>\n",
       "</tr>\n",
       "<tr>\n",
       "  <th>diaBP</th>           <td>    0.0032</td> <td>    0.001</td> <td>    3.285</td> <td> 0.001</td> <td>    0.001</td> <td>    0.005</td>\n",
       "</tr>\n",
       "<tr>\n",
       "  <th>BMI</th>             <td>   -0.0005</td> <td>    0.002</td> <td>   -0.290</td> <td> 0.772</td> <td>   -0.004</td> <td>    0.003</td>\n",
       "</tr>\n",
       "<tr>\n",
       "  <th>heartRate</th>       <td>    0.0003</td> <td>    0.001</td> <td>    0.426</td> <td> 0.670</td> <td>   -0.001</td> <td>    0.001</td>\n",
       "</tr>\n",
       "<tr>\n",
       "  <th>glucose</th>         <td>    0.0013</td> <td>    0.000</td> <td>    3.591</td> <td> 0.000</td> <td>    0.001</td> <td>    0.002</td>\n",
       "</tr>\n",
       "<tr>\n",
       "  <th>age_group</th>       <td>    0.1208</td> <td>    0.025</td> <td>    4.916</td> <td> 0.000</td> <td>    0.073</td> <td>    0.169</td>\n",
       "</tr>\n",
       "</table>\n",
       "<table class=\"simpletable\">\n",
       "<tr>\n",
       "  <th>Omnibus:</th>       <td>98352.150</td> <th>  Durbin-Watson:     </th> <td>   0.919</td>\n",
       "</tr>\n",
       "<tr>\n",
       "  <th>Prob(Omnibus):</th>  <td> 0.000</td>   <th>  Jarque-Bera (JB):  </th> <td> 367.481</td>\n",
       "</tr>\n",
       "<tr>\n",
       "  <th>Skew:</th>           <td>-0.040</td>   <th>  Prob(JB):          </th> <td>1.59e-80</td>\n",
       "</tr>\n",
       "<tr>\n",
       "  <th>Kurtosis:</th>       <td> 1.645</td>   <th>  Cond. No.          </th> <td>5.90e+03</td>\n",
       "</tr>\n",
       "</table><br/><br/>Warnings:<br/>[1] Standard Errors assume that the covariance matrix of the errors is correctly specified.<br/>[2] The condition number is large, 5.9e+03. This might indicate that there are<br/>strong multicollinearity or other numerical problems."
      ],
      "text/plain": [
       "<class 'statsmodels.iolib.summary.Summary'>\n",
       "\"\"\"\n",
       "                            OLS Regression Results                            \n",
       "==============================================================================\n",
       "Dep. Variable:             TenYearCHD   R-squared:                       0.180\n",
       "Model:                            OLS   Adj. R-squared:                  0.177\n",
       "Method:                 Least Squares   F-statistic:                     65.34\n",
       "Date:                Fri, 09 Jul 2021   Prob (F-statistic):          2.96e-191\n",
       "Time:                        11:46:43   Log-Likelihood:                -3000.8\n",
       "No. Observations:                4788   AIC:                             6036.\n",
       "Df Residuals:                    4771   BIC:                             6146.\n",
       "Df Model:                          16                                         \n",
       "Covariance Type:            nonrobust                                         \n",
       "===================================================================================\n",
       "                      coef    std err          t      P>|t|      [0.025      0.975]\n",
       "-----------------------------------------------------------------------------------\n",
       "const              -0.7180      0.114     -6.281      0.000      -0.942      -0.494\n",
       "male               -0.0878      0.015     -5.865      0.000      -0.117      -0.058\n",
       "age                 0.0029      0.003      1.072      0.284      -0.002       0.008\n",
       "education          -0.0100      0.007     -1.375      0.169      -0.024       0.004\n",
       "currentSmoker      -0.2464      0.022    -11.157      0.000      -0.290      -0.203\n",
       "cigsPerDay          0.0141      0.001     15.588      0.000       0.012       0.016\n",
       "BPMeds              0.1948      0.038      5.170      0.000       0.121       0.269\n",
       "prevalentStroke    -0.1403      0.122     -1.152      0.249      -0.379       0.098\n",
       "prevalentHyp       -0.1402      0.020     -7.043      0.000      -0.179      -0.101\n",
       "diabetes           -0.0611      0.059     -1.040      0.298      -0.176       0.054\n",
       "totChol         -7.472e-05      0.000     -0.494      0.621      -0.000       0.000\n",
       "sysBP               0.0033      0.001      5.650      0.000       0.002       0.004\n",
       "diaBP               0.0032      0.001      3.285      0.001       0.001       0.005\n",
       "BMI                -0.0005      0.002     -0.290      0.772      -0.004       0.003\n",
       "heartRate           0.0003      0.001      0.426      0.670      -0.001       0.001\n",
       "glucose             0.0013      0.000      3.591      0.000       0.001       0.002\n",
       "age_group           0.1208      0.025      4.916      0.000       0.073       0.169\n",
       "==============================================================================\n",
       "Omnibus:                    98352.150   Durbin-Watson:                   0.919\n",
       "Prob(Omnibus):                  0.000   Jarque-Bera (JB):              367.481\n",
       "Skew:                          -0.040   Prob(JB):                     1.59e-80\n",
       "Kurtosis:                       1.645   Cond. No.                     5.90e+03\n",
       "==============================================================================\n",
       "\n",
       "Warnings:\n",
       "[1] Standard Errors assume that the covariance matrix of the errors is correctly specified.\n",
       "[2] The condition number is large, 5.9e+03. This might indicate that there are\n",
       "strong multicollinearity or other numerical problems.\n",
       "\"\"\""
      ]
     },
     "execution_count": 27,
     "metadata": {},
     "output_type": "execute_result"
    }
   ],
   "source": [
    "res.summary()"
   ]
  },
  {
   "cell_type": "code",
   "execution_count": 28,
   "metadata": {},
   "outputs": [],
   "source": [
    "X_ols=df.drop(['TenYearCHD','age','education','prevalentStroke','diabetes','totChol','BMI','heartRate'],axis=1)\n",
    "y_ols=df['TenYearCHD']"
   ]
  },
  {
   "cell_type": "code",
   "execution_count": 29,
   "metadata": {},
   "outputs": [],
   "source": [
    "Xols_train, Xols_test, yols_train, yols_test = train_test_split(X_ols,y_ols, test_size=0.33, random_state=42)\n",
    "X_smote_ols, y_smote_ols = smote.fit_sample(Xols_train, yols_train)"
   ]
  },
  {
   "cell_type": "code",
   "execution_count": 30,
   "metadata": {},
   "outputs": [
    {
     "name": "stderr",
     "output_type": "stream",
     "text": [
      "C:\\Users\\eilon_bd\\Anaconda3\\lib\\site-packages\\sklearn\\linear_model\\_logistic.py:764: ConvergenceWarning: lbfgs failed to converge (status=1):\n",
      "STOP: TOTAL NO. of ITERATIONS REACHED LIMIT.\n",
      "\n",
      "Increase the number of iterations (max_iter) or scale the data as shown in:\n",
      "    https://scikit-learn.org/stable/modules/preprocessing.html\n",
      "Please also refer to the documentation for alternative solver options:\n",
      "    https://scikit-learn.org/stable/modules/linear_model.html#logistic-regression\n",
      "  extra_warning_msg=_LOGISTIC_SOLVER_CONVERGENCE_MSG)\n"
     ]
    },
    {
     "data": {
      "text/plain": [
       "LogisticRegression()"
      ]
     },
     "execution_count": 30,
     "metadata": {},
     "output_type": "execute_result"
    }
   ],
   "source": [
    "ols = sklin.LogisticRegression()\n",
    "ols.fit(X_smote_ols,y_smote_ols)"
   ]
  },
  {
   "cell_type": "code",
   "execution_count": 31,
   "metadata": {},
   "outputs": [],
   "source": [
    "ols_pred=ols.predict(Xols_test)"
   ]
  },
  {
   "cell_type": "code",
   "execution_count": 32,
   "metadata": {
    "scrolled": true
   },
   "outputs": [
    {
     "name": "stdout",
     "output_type": "stream",
     "text": [
      "[[796 402]\n",
      " [ 87 112]]\n",
      "              precision    recall  f1-score   support\n",
      "\n",
      "           0       0.90      0.66      0.77      1198\n",
      "           1       0.22      0.56      0.31       199\n",
      "\n",
      "    accuracy                           0.65      1397\n",
      "   macro avg       0.56      0.61      0.54      1397\n",
      "weighted avg       0.80      0.65      0.70      1397\n",
      "\n"
     ]
    }
   ],
   "source": [
    "print(skmet.confusion_matrix(yols_test,ols_pred))\n",
    "print(skmet.classification_report(yols_test,ols_pred))"
   ]
  },
  {
   "cell_type": "code",
   "execution_count": 33,
   "metadata": {},
   "outputs": [],
   "source": [
    "df_scores.loc['Ordinary Least Squares with Logistic Regression',:] = [skmet.precision_score(yols_test,ols_pred)\\\n",
    "                                          ,skmet.recall_score(yols_test,ols_pred)\\\n",
    "                                          ,skmet.f1_score(yols_test,ols_pred)]"
   ]
  },
  {
   "cell_type": "markdown",
   "metadata": {},
   "source": [
    "# RANDOM FOREST"
   ]
  },
  {
   "cell_type": "code",
   "execution_count": 34,
   "metadata": {},
   "outputs": [
    {
     "data": {
      "text/plain": [
       "RandomForestClassifier(min_samples_leaf=6)"
      ]
     },
     "execution_count": 34,
     "metadata": {},
     "output_type": "execute_result"
    }
   ],
   "source": [
    "from sklearn.ensemble import RandomForestClassifier, VotingClassifier\n",
    "rfc = RandomForestClassifier(n_estimators=100,min_samples_leaf=6)\n",
    "rfc.fit(X_train, y_train)"
   ]
  },
  {
   "cell_type": "code",
   "execution_count": 35,
   "metadata": {},
   "outputs": [],
   "source": [
    "rfc_pred = rfc.predict(X_test)"
   ]
  },
  {
   "cell_type": "code",
   "execution_count": 36,
   "metadata": {},
   "outputs": [
    {
     "name": "stdout",
     "output_type": "stream",
     "text": [
      "[[1193    5]\n",
      " [ 190    9]]\n"
     ]
    }
   ],
   "source": [
    "print(skmet.confusion_matrix(y_test,rfc_pred))"
   ]
  },
  {
   "cell_type": "code",
   "execution_count": 37,
   "metadata": {
    "scrolled": true
   },
   "outputs": [
    {
     "name": "stdout",
     "output_type": "stream",
     "text": [
      "              precision    recall  f1-score   support\n",
      "\n",
      "           0       0.86      1.00      0.92      1198\n",
      "           1       0.64      0.05      0.08       199\n",
      "\n",
      "    accuracy                           0.86      1397\n",
      "   macro avg       0.75      0.52      0.50      1397\n",
      "weighted avg       0.83      0.86      0.80      1397\n",
      "\n"
     ]
    }
   ],
   "source": [
    "print(skmet.classification_report(y_test,rfc_pred))"
   ]
  },
  {
   "cell_type": "code",
   "execution_count": 38,
   "metadata": {},
   "outputs": [],
   "source": [
    "df_scores.loc['Random Forest',:] = [skmet.precision_score(y_test,rfc_pred)\\\n",
    "                                          ,skmet.recall_score(y_test,rfc_pred)\\\n",
    "                                          ,skmet.f1_score(y_test,rfc_pred)]"
   ]
  },
  {
   "cell_type": "markdown",
   "metadata": {},
   "source": [
    "Random Forest with Smoot"
   ]
  },
  {
   "cell_type": "code",
   "execution_count": 39,
   "metadata": {},
   "outputs": [
    {
     "data": {
      "text/plain": [
       "RandomForestClassifier(max_leaf_nodes=6)"
      ]
     },
     "execution_count": 39,
     "metadata": {},
     "output_type": "execute_result"
    }
   ],
   "source": [
    "rfc_smoot= RandomForestClassifier(n_estimators=100,max_leaf_nodes=6)\n",
    "rfc_smoot.fit(X_smote,y_smote)"
   ]
  },
  {
   "cell_type": "code",
   "execution_count": 40,
   "metadata": {},
   "outputs": [],
   "source": [
    "rfc_smoot_pred = rfc_smoot.predict(X_test)"
   ]
  },
  {
   "cell_type": "code",
   "execution_count": 41,
   "metadata": {
    "scrolled": false
   },
   "outputs": [
    {
     "name": "stdout",
     "output_type": "stream",
     "text": [
      "[[813 385]\n",
      " [ 73 126]]\n",
      "              precision    recall  f1-score   support\n",
      "\n",
      "           0       0.92      0.68      0.78      1198\n",
      "           1       0.25      0.63      0.35       199\n",
      "\n",
      "    accuracy                           0.67      1397\n",
      "   macro avg       0.58      0.66      0.57      1397\n",
      "weighted avg       0.82      0.67      0.72      1397\n",
      "\n"
     ]
    }
   ],
   "source": [
    "print(skmet.confusion_matrix(y_test,rfc_smoot_pred))\n",
    "print(skmet.classification_report(y_test,rfc_smoot_pred))"
   ]
  },
  {
   "cell_type": "code",
   "execution_count": 42,
   "metadata": {},
   "outputs": [
    {
     "name": "stdout",
     "output_type": "stream",
     "text": [
      "0.4 recall=\n",
      " [[654 544]\n",
      " [ 48 151]]               precision    recall  f1-score   support\n",
      "\n",
      "           0       0.93      0.55      0.69      1198\n",
      "           1       0.22      0.76      0.34       199\n",
      "\n",
      "    accuracy                           0.58      1397\n",
      "   macro avg       0.57      0.65      0.51      1397\n",
      "weighted avg       0.83      0.58      0.64      1397\n",
      "\n",
      "0.41000000000000003 recall=\n",
      " [[663 535]\n",
      " [ 48 151]]               precision    recall  f1-score   support\n",
      "\n",
      "           0       0.93      0.55      0.69      1198\n",
      "           1       0.22      0.76      0.34       199\n",
      "\n",
      "    accuracy                           0.58      1397\n",
      "   macro avg       0.58      0.66      0.52      1397\n",
      "weighted avg       0.83      0.58      0.64      1397\n",
      "\n",
      "0.42000000000000004 recall=\n",
      " [[668 530]\n",
      " [ 48 151]]               precision    recall  f1-score   support\n",
      "\n",
      "           0       0.93      0.56      0.70      1198\n",
      "           1       0.22      0.76      0.34       199\n",
      "\n",
      "    accuracy                           0.59      1397\n",
      "   macro avg       0.58      0.66      0.52      1397\n",
      "weighted avg       0.83      0.59      0.65      1397\n",
      "\n",
      "0.43000000000000005 recall=\n",
      " [[677 521]\n",
      " [ 49 150]]               precision    recall  f1-score   support\n",
      "\n",
      "           0       0.93      0.57      0.70      1198\n",
      "           1       0.22      0.75      0.34       199\n",
      "\n",
      "    accuracy                           0.59      1397\n",
      "   macro avg       0.58      0.66      0.52      1397\n",
      "weighted avg       0.83      0.59      0.65      1397\n",
      "\n",
      "0.44000000000000006 recall=\n",
      " [[681 517]\n",
      " [ 49 150]]               precision    recall  f1-score   support\n",
      "\n",
      "           0       0.93      0.57      0.71      1198\n",
      "           1       0.22      0.75      0.35       199\n",
      "\n",
      "    accuracy                           0.59      1397\n",
      "   macro avg       0.58      0.66      0.53      1397\n",
      "weighted avg       0.83      0.59      0.66      1397\n",
      "\n",
      "0.45000000000000007 recall=\n",
      " [[690 508]\n",
      " [ 51 148]]               precision    recall  f1-score   support\n",
      "\n",
      "           0       0.93      0.58      0.71      1198\n",
      "           1       0.23      0.74      0.35       199\n",
      "\n",
      "    accuracy                           0.60      1397\n",
      "   macro avg       0.58      0.66      0.53      1397\n",
      "weighted avg       0.83      0.60      0.66      1397\n",
      "\n",
      "0.4600000000000001 recall=\n",
      " [[707 491]\n",
      " [ 53 146]]               precision    recall  f1-score   support\n",
      "\n",
      "           0       0.93      0.59      0.72      1198\n",
      "           1       0.23      0.73      0.35       199\n",
      "\n",
      "    accuracy                           0.61      1397\n",
      "   macro avg       0.58      0.66      0.54      1397\n",
      "weighted avg       0.83      0.61      0.67      1397\n",
      "\n",
      "0.4700000000000001 recall=\n",
      " [[723 475]\n",
      " [ 57 142]]               precision    recall  f1-score   support\n",
      "\n",
      "           0       0.93      0.60      0.73      1198\n",
      "           1       0.23      0.71      0.35       199\n",
      "\n",
      "    accuracy                           0.62      1397\n",
      "   macro avg       0.58      0.66      0.54      1397\n",
      "weighted avg       0.83      0.62      0.68      1397\n",
      "\n",
      "0.4800000000000001 recall=\n",
      " [[758 440]\n",
      " [ 62 137]]               precision    recall  f1-score   support\n",
      "\n",
      "           0       0.92      0.63      0.75      1198\n",
      "           1       0.24      0.69      0.35       199\n",
      "\n",
      "    accuracy                           0.64      1397\n",
      "   macro avg       0.58      0.66      0.55      1397\n",
      "weighted avg       0.83      0.64      0.69      1397\n",
      "\n",
      "0.4900000000000001 recall=\n",
      " [[789 409]\n",
      " [ 70 129]]               precision    recall  f1-score   support\n",
      "\n",
      "           0       0.92      0.66      0.77      1198\n",
      "           1       0.24      0.65      0.35       199\n",
      "\n",
      "    accuracy                           0.66      1397\n",
      "   macro avg       0.58      0.65      0.56      1397\n",
      "weighted avg       0.82      0.66      0.71      1397\n",
      "\n"
     ]
    }
   ],
   "source": [
    "for i in np.arange(0.4,0.5,0.01):\n",
    "    print(i, 'recall=\\n',skmet.confusion_matrix(y_test,rfc_smoot.predict_proba(X_test)[:,1]>i)\n",
    "          ,skmet.classification_report(y_test,rfc_smoot.predict_proba(X_test)[:,1]>i))\n",
    "    df_scores.loc[f'Random Forest {i:.2f}',:] = [skmet.precision_score(y_test,rfc_smoot.predict_proba(X_test)[:,1]>i)\\\n",
    "                                          ,skmet.recall_score(y_test,rfc_smoot.predict_proba(X_test)[:,1]>i)\\\n",
    "                                          ,skmet.f1_score(y_test,rfc_smoot.predict_proba(X_test)[:,1]>i)]"
   ]
  },
  {
   "cell_type": "code",
   "execution_count": 43,
   "metadata": {
    "scrolled": true
   },
   "outputs": [],
   "source": [
    "RF_scores=pd.DataFrame(columns=['precentage','presicsion','recall','f1-scores'])\n",
    "for i in np.arange(0.3,0.6,0.005):\n",
    "    RF_scores.loc[f'Random Forest {i:.3f}',:] = [i,skmet.precision_score(y_test,rfc_smoot.predict_proba(X_test)[:,1]>i)\\\n",
    "                                          ,skmet.recall_score(y_test,rfc_smoot.predict_proba(X_test)[:,1]>i)\\\n",
    "                                          ,skmet.f1_score(y_test,rfc_smoot.predict_proba(X_test)[:,1]>i)]"
   ]
  },
  {
   "cell_type": "code",
   "execution_count": 44,
   "metadata": {},
   "outputs": [
    {
     "data": {
      "image/png": "[encoded data removed]",
      "text/plain": [
       "<Figure size 432x288 with 1 Axes>"
      ]
     },
     "metadata": {
      "needs_background": "light"
     },
     "output_type": "display_data"
    }
   ],
   "source": [
    "plt.plot(RF_scores['precentage'], RF_scores['presicsion'],'r',\n",
    "         RF_scores['precentage'], RF_scores['recall'], 'b', \n",
    "         RF_scores['precentage'], RF_scores['f1-scores'], 'g')\n",
    "plt.show()"
   ]
  },
  {
   "cell_type": "code",
   "execution_count": 45,
   "metadata": {
    "scrolled": true
   },
   "outputs": [
    {
     "data": {
      "image/png": "[encoded data removed]",
      "text/plain": [
       "<Figure size 432x288 with 1 Axes>"
      ]
     },
     "metadata": {
      "needs_background": "light"
     },
     "output_type": "display_data"
    }
   ],
   "source": [
    "from sklearn.metrics import roc_curve\n",
    "fpr, tpr, thresholds = roc_curve(y_test, rfc_smoot.predict_proba(X_test)[:,1])\n",
    "plt.plot(fpr,tpr)\n",
    "plt.xlim([0.0, 1.0])\n",
    "plt.ylim([0.0, 1.0])\n",
    "plt.title('ROC curve for Heart disease classifier')\n",
    "plt.xlabel('False positive rate (1-Specificity)')\n",
    "plt.ylabel('True positive rate (Sensitivity)')\n",
    "plt.grid(True)"
   ]
  },
  {
   "cell_type": "code",
   "execution_count": 46,
   "metadata": {},
   "outputs": [],
   "source": [
    ">>> from sklearn.metrics import precision_recall_curve\n",
    "from sklearn.metrics import plot_precision_recall_curve"
   ]
  },
  {
   "cell_type": "code",
   "execution_count": 47,
   "metadata": {},
   "outputs": [
    {
     "data": {
      "image/png": "[encoded data removed]",
      "text/plain": [
       "<Figure size 432x288 with 1 Axes>"
      ]
     },
     "metadata": {
      "needs_background": "light"
     },
     "output_type": "display_data"
    }
   ],
   "source": [
    "disp = plot_precision_recall_curve(rfc_smoot,X_test,y_test)"
   ]
  },
  {
   "cell_type": "code",
   "execution_count": 48,
   "metadata": {},
   "outputs": [
    {
     "data": {
      "text/plain": [
       "0.7132469526262363"
      ]
     },
     "execution_count": 48,
     "metadata": {},
     "output_type": "execute_result"
    }
   ],
   "source": [
    "skmet.auc(fpr, tpr)"
   ]
  },
  {
   "cell_type": "markdown",
   "metadata": {},
   "source": [
    "Random Foerst with standart scalar"
   ]
  },
  {
   "cell_type": "code",
   "execution_count": 49,
   "metadata": {},
   "outputs": [],
   "source": [
    "scaler = StandardScaler()"
   ]
  },
  {
   "cell_type": "code",
   "execution_count": 50,
   "metadata": {},
   "outputs": [
    {
     "data": {
      "text/plain": [
       "StandardScaler()"
      ]
     },
     "execution_count": 50,
     "metadata": {},
     "output_type": "execute_result"
    }
   ],
   "source": [
    "scaler.fit(df.drop('TenYearCHD',axis=1))"
   ]
  },
  {
   "cell_type": "code",
   "execution_count": 51,
   "metadata": {},
   "outputs": [],
   "source": [
    "scaled_features = scaler.transform(df.drop('TenYearCHD',axis=1))"
   ]
  },
  {
   "cell_type": "code",
   "execution_count": 52,
   "metadata": {},
   "outputs": [
    {
     "data": {
      "text/html": [
       "<div>\n",
       "<style scoped>\n",
       "    .dataframe tbody tr th:only-of-type {\n",
       "        vertical-align: middle;\n",
       "    }\n",
       "\n",
       "    .dataframe tbody tr th {\n",
       "        vertical-align: top;\n",
       "    }\n",
       "\n",
       "    .dataframe thead th {\n",
       "        text-align: right;\n",
       "    }\n",
       "</style>\n",
       "<table border=\"1\" class=\"dataframe\">\n",
       "  <thead>\n",
       "    <tr style=\"text-align: right;\">\n",
       "      <th></th>\n",
       "      <th>male</th>\n",
       "      <th>age</th>\n",
       "      <th>education</th>\n",
       "      <th>currentSmoker</th>\n",
       "      <th>cigsPerDay</th>\n",
       "      <th>BPMeds</th>\n",
       "      <th>prevalentStroke</th>\n",
       "      <th>prevalentHyp</th>\n",
       "      <th>diabetes</th>\n",
       "      <th>totChol</th>\n",
       "      <th>sysBP</th>\n",
       "      <th>diaBP</th>\n",
       "      <th>BMI</th>\n",
       "      <th>heartRate</th>\n",
       "      <th>glucose</th>\n",
       "      <th>age_group</th>\n",
       "    </tr>\n",
       "  </thead>\n",
       "  <tbody>\n",
       "    <tr>\n",
       "      <th>0</th>\n",
       "      <td>1.153111</td>\n",
       "      <td>-1.234841</td>\n",
       "      <td>2.006334</td>\n",
       "      <td>-0.987557</td>\n",
       "      <td>-0.761455</td>\n",
       "      <td>-0.173717</td>\n",
       "      <td>-0.077078</td>\n",
       "      <td>-0.670935</td>\n",
       "      <td>-0.159487</td>\n",
       "      <td>-0.941451</td>\n",
       "      <td>-1.195921</td>\n",
       "      <td>-1.082762</td>\n",
       "      <td>0.287088</td>\n",
       "      <td>0.342084</td>\n",
       "      <td>-0.210002</td>\n",
       "      <td>-1.648836</td>\n",
       "    </tr>\n",
       "    <tr>\n",
       "      <th>1</th>\n",
       "      <td>-0.867219</td>\n",
       "      <td>-1.234841</td>\n",
       "      <td>0.020408</td>\n",
       "      <td>1.012600</td>\n",
       "      <td>-0.006048</td>\n",
       "      <td>-0.173717</td>\n",
       "      <td>-0.077078</td>\n",
       "      <td>-0.670935</td>\n",
       "      <td>-0.159487</td>\n",
       "      <td>-0.242610</td>\n",
       "      <td>-0.832492</td>\n",
       "      <td>-1.586604</td>\n",
       "      <td>-0.848044</td>\n",
       "      <td>0.757948</td>\n",
       "      <td>0.370798</td>\n",
       "      <td>-1.648836</td>\n",
       "    </tr>\n",
       "    <tr>\n",
       "      <th>2</th>\n",
       "      <td>-0.867219</td>\n",
       "      <td>-1.351501</td>\n",
       "      <td>0.020408</td>\n",
       "      <td>1.012600</td>\n",
       "      <td>0.917228</td>\n",
       "      <td>-0.173717</td>\n",
       "      <td>-0.077078</td>\n",
       "      <td>1.490457</td>\n",
       "      <td>-0.159487</td>\n",
       "      <td>-0.355327</td>\n",
       "      <td>0.348651</td>\n",
       "      <td>0.596714</td>\n",
       "      <td>-1.093744</td>\n",
       "      <td>1.589677</td>\n",
       "      <td>-0.512467</td>\n",
       "      <td>-1.648836</td>\n",
       "    </tr>\n",
       "    <tr>\n",
       "      <th>3</th>\n",
       "      <td>-0.867219</td>\n",
       "      <td>-1.351501</td>\n",
       "      <td>0.020408</td>\n",
       "      <td>1.012600</td>\n",
       "      <td>-0.341784</td>\n",
       "      <td>-0.173717</td>\n",
       "      <td>-0.077078</td>\n",
       "      <td>-0.670935</td>\n",
       "      <td>-0.159487</td>\n",
       "      <td>-0.941451</td>\n",
       "      <td>-0.469064</td>\n",
       "      <td>0.134858</td>\n",
       "      <td>-0.629372</td>\n",
       "      <td>-0.073781</td>\n",
       "      <td>-0.166792</td>\n",
       "      <td>-1.648836</td>\n",
       "    </tr>\n",
       "    <tr>\n",
       "      <th>4</th>\n",
       "      <td>1.153111</td>\n",
       "      <td>-1.701482</td>\n",
       "      <td>0.020408</td>\n",
       "      <td>1.012600</td>\n",
       "      <td>0.917228</td>\n",
       "      <td>-0.173717</td>\n",
       "      <td>-0.077078</td>\n",
       "      <td>1.490457</td>\n",
       "      <td>-0.159487</td>\n",
       "      <td>-0.265154</td>\n",
       "      <td>-0.014778</td>\n",
       "      <td>0.680687</td>\n",
       "      <td>0.070872</td>\n",
       "      <td>-0.240127</td>\n",
       "      <td>0.049254</td>\n",
       "      <td>-1.648836</td>\n",
       "    </tr>\n",
       "  </tbody>\n",
       "</table>\n",
       "</div>"
      ],
      "text/plain": [
       "       male       age  education  currentSmoker  cigsPerDay    BPMeds  \\\n",
       "0  1.153111 -1.234841   2.006334      -0.987557   -0.761455 -0.173717   \n",
       "1 -0.867219 -1.234841   0.020408       1.012600   -0.006048 -0.173717   \n",
       "2 -0.867219 -1.351501   0.020408       1.012600    0.917228 -0.173717   \n",
       "3 -0.867219 -1.351501   0.020408       1.012600   -0.341784 -0.173717   \n",
       "4  1.153111 -1.701482   0.020408       1.012600    0.917228 -0.173717   \n",
       "\n",
       "   prevalentStroke  prevalentHyp  diabetes   totChol     sysBP     diaBP  \\\n",
       "0        -0.077078     -0.670935 -0.159487 -0.941451 -1.195921 -1.082762   \n",
       "1        -0.077078     -0.670935 -0.159487 -0.242610 -0.832492 -1.586604   \n",
       "2        -0.077078      1.490457 -0.159487 -0.355327  0.348651  0.596714   \n",
       "3        -0.077078     -0.670935 -0.159487 -0.941451 -0.469064  0.134858   \n",
       "4        -0.077078      1.490457 -0.159487 -0.265154 -0.014778  0.680687   \n",
       "\n",
       "        BMI  heartRate   glucose  age_group  \n",
       "0  0.287088   0.342084 -0.210002  -1.648836  \n",
       "1 -0.848044   0.757948  0.370798  -1.648836  \n",
       "2 -1.093744   1.589677 -0.512467  -1.648836  \n",
       "3 -0.629372  -0.073781 -0.166792  -1.648836  \n",
       "4  0.070872  -0.240127  0.049254  -1.648836  "
      ]
     },
     "execution_count": 52,
     "metadata": {},
     "output_type": "execute_result"
    }
   ],
   "source": [
    "df_feat = pd.DataFrame(scaled_features,columns=df.drop('TenYearCHD',axis=1).columns)\n",
    "df_feat.head()"
   ]
  },
  {
   "cell_type": "code",
   "execution_count": 53,
   "metadata": {},
   "outputs": [],
   "source": [
    "X_train1, X_test1, y_train1, y_test1 = train_test_split(scaled_features,df['TenYearCHD'],\n",
    "                                                    test_size=0.30,random_state=101)"
   ]
  },
  {
   "cell_type": "code",
   "execution_count": 54,
   "metadata": {},
   "outputs": [
    {
     "data": {
      "text/plain": [
       "RandomForestClassifier()"
      ]
     },
     "execution_count": 54,
     "metadata": {},
     "output_type": "execute_result"
    }
   ],
   "source": [
    "rfc_s = RandomForestClassifier()\n",
    "rfc_s.fit(X_train1,y_train1)"
   ]
  },
  {
   "cell_type": "code",
   "execution_count": 55,
   "metadata": {},
   "outputs": [],
   "source": [
    "y_pred = rfc_s.predict(X_test1)"
   ]
  },
  {
   "cell_type": "code",
   "execution_count": 56,
   "metadata": {},
   "outputs": [
    {
     "name": "stdout",
     "output_type": "stream",
     "text": [
      "[[1067   17]\n",
      " [ 176   10]]\n"
     ]
    }
   ],
   "source": [
    "print(skmet.confusion_matrix(y_test1,y_pred))"
   ]
  },
  {
   "cell_type": "markdown",
   "metadata": {},
   "source": [
    "# Naive Bayes"
   ]
  },
  {
   "cell_type": "code",
   "execution_count": 57,
   "metadata": {},
   "outputs": [],
   "source": [
    "import sklearn.naive_bayes as sknb"
   ]
  },
  {
   "cell_type": "code",
   "execution_count": 58,
   "metadata": {},
   "outputs": [],
   "source": [
    "nb= sknb.GaussianNB()"
   ]
  },
  {
   "cell_type": "code",
   "execution_count": 59,
   "metadata": {},
   "outputs": [
    {
     "data": {
      "text/plain": [
       "GaussianNB()"
      ]
     },
     "execution_count": 59,
     "metadata": {},
     "output_type": "execute_result"
    }
   ],
   "source": [
    "nb.fit(X_smote,y_smote)"
   ]
  },
  {
   "cell_type": "code",
   "execution_count": 60,
   "metadata": {},
   "outputs": [],
   "source": [
    "nb_pred = nb.predict(X_test)"
   ]
  },
  {
   "cell_type": "code",
   "execution_count": 61,
   "metadata": {
    "scrolled": true
   },
   "outputs": [
    {
     "name": "stdout",
     "output_type": "stream",
     "text": [
      "[[934 264]\n",
      " [108  91]]\n",
      "              precision    recall  f1-score   support\n",
      "\n",
      "           0       0.90      0.78      0.83      1198\n",
      "           1       0.26      0.46      0.33       199\n",
      "\n",
      "    accuracy                           0.73      1397\n",
      "   macro avg       0.58      0.62      0.58      1397\n",
      "weighted avg       0.81      0.73      0.76      1397\n",
      "\n"
     ]
    }
   ],
   "source": [
    "print(skmet.confusion_matrix(y_test,nb_pred))\n",
    "print(skmet.classification_report(y_test,nb_pred))"
   ]
  },
  {
   "cell_type": "code",
   "execution_count": 62,
   "metadata": {},
   "outputs": [],
   "source": [
    "df_scores.loc['Naive Bayes',:] = [skmet.precision_score(y_test,nb_pred)\\\n",
    "                                          ,skmet.recall_score(y_test,nb_pred)\\\n",
    "                                          ,skmet.f1_score(y_test,nb_pred)]"
   ]
  },
  {
   "cell_type": "markdown",
   "metadata": {},
   "source": [
    "# VOTING"
   ]
  },
  {
   "cell_type": "code",
   "execution_count": 63,
   "metadata": {},
   "outputs": [
    {
     "name": "stderr",
     "output_type": "stream",
     "text": [
      "C:\\Users\\eilon_bd\\Anaconda3\\lib\\site-packages\\sklearn\\linear_model\\_logistic.py:764: ConvergenceWarning: lbfgs failed to converge (status=1):\n",
      "STOP: TOTAL NO. of ITERATIONS REACHED LIMIT.\n",
      "\n",
      "Increase the number of iterations (max_iter) or scale the data as shown in:\n",
      "    https://scikit-learn.org/stable/modules/preprocessing.html\n",
      "Please also refer to the documentation for alternative solver options:\n",
      "    https://scikit-learn.org/stable/modules/linear_model.html#logistic-regression\n",
      "  extra_warning_msg=_LOGISTIC_SOLVER_CONVERGENCE_MSG)\n"
     ]
    },
    {
     "data": {
      "text/plain": [
       "0.7380100214745884"
      ]
     },
     "execution_count": 63,
     "metadata": {},
     "output_type": "execute_result"
    }
   ],
   "source": [
    "emodel = VotingClassifier(estimators=[\n",
    "    ('lr', LogisticRegression()),\n",
    "    ('g', GaussianNB()),\n",
    "    ('rf', RandomForestClassifier(n_estimators=100,min_samples_leaf=6)),\n",
    "    ('knn', KNeighborsClassifier()),\n",
    "    ('SVM', SVC(kernel='rbf', probability=True)),\n",
    "    ],\n",
    "    voting='soft')\n",
    "emodel.fit(X_smote,y_smote)\n",
    "emodel.score(X_test,y_test)"
   ]
  },
  {
   "cell_type": "code",
   "execution_count": 64,
   "metadata": {},
   "outputs": [],
   "source": [
    "e_pred = emodel.predict(X_test)"
   ]
  },
  {
   "cell_type": "code",
   "execution_count": 65,
   "metadata": {},
   "outputs": [
    {
     "name": "stdout",
     "output_type": "stream",
     "text": [
      "[[933 265]\n",
      " [101  98]]\n"
     ]
    }
   ],
   "source": [
    "print(skmet.confusion_matrix(y_test,e_pred))"
   ]
  },
  {
   "cell_type": "code",
   "execution_count": 66,
   "metadata": {
    "scrolled": true
   },
   "outputs": [
    {
     "name": "stdout",
     "output_type": "stream",
     "text": [
      "              precision    recall  f1-score   support\n",
      "\n",
      "           0       0.90      0.78      0.84      1198\n",
      "           1       0.27      0.49      0.35       199\n",
      "\n",
      "    accuracy                           0.74      1397\n",
      "   macro avg       0.59      0.64      0.59      1397\n",
      "weighted avg       0.81      0.74      0.77      1397\n",
      "\n"
     ]
    }
   ],
   "source": [
    "print(skmet.classification_report(y_test,e_pred))"
   ]
  },
  {
   "cell_type": "code",
   "execution_count": 67,
   "metadata": {},
   "outputs": [],
   "source": [
    "df_scores.loc['Voting',:] = [skmet.precision_score(y_test,e_pred)\\\n",
    "                                          ,skmet.recall_score(y_test,e_pred)\\\n",
    "                                          ,skmet.f1_score(y_test,e_pred)]"
   ]
  },
  {
   "cell_type": "markdown",
   "metadata": {},
   "source": [
    "# Feature Importence with Random Forest"
   ]
  },
  {
   "cell_type": "code",
   "execution_count": 68,
   "metadata": {},
   "outputs": [
    {
     "data": {
      "text/html": [
       "<div>\n",
       "<style scoped>\n",
       "    .dataframe tbody tr th:only-of-type {\n",
       "        vertical-align: middle;\n",
       "    }\n",
       "\n",
       "    .dataframe tbody tr th {\n",
       "        vertical-align: top;\n",
       "    }\n",
       "\n",
       "    .dataframe thead th {\n",
       "        text-align: right;\n",
       "    }\n",
       "</style>\n",
       "<table border=\"1\" class=\"dataframe\">\n",
       "  <thead>\n",
       "    <tr style=\"text-align: right;\">\n",
       "      <th></th>\n",
       "      <th>feature</th>\n",
       "    </tr>\n",
       "  </thead>\n",
       "  <tbody>\n",
       "    <tr>\n",
       "      <th>age_group</th>\n",
       "      <td>0.453433</td>\n",
       "    </tr>\n",
       "    <tr>\n",
       "      <th>age</th>\n",
       "      <td>0.154493</td>\n",
       "    </tr>\n",
       "    <tr>\n",
       "      <th>sysBP</th>\n",
       "      <td>0.121380</td>\n",
       "    </tr>\n",
       "    <tr>\n",
       "      <th>education</th>\n",
       "      <td>0.115713</td>\n",
       "    </tr>\n",
       "    <tr>\n",
       "      <th>diaBP</th>\n",
       "      <td>0.053023</td>\n",
       "    </tr>\n",
       "    <tr>\n",
       "      <th>BPMeds</th>\n",
       "      <td>0.041984</td>\n",
       "    </tr>\n",
       "    <tr>\n",
       "      <th>cigsPerDay</th>\n",
       "      <td>0.027819</td>\n",
       "    </tr>\n",
       "    <tr>\n",
       "      <th>glucose</th>\n",
       "      <td>0.007110</td>\n",
       "    </tr>\n",
       "    <tr>\n",
       "      <th>currentSmoker</th>\n",
       "      <td>0.006605</td>\n",
       "    </tr>\n",
       "    <tr>\n",
       "      <th>heartRate</th>\n",
       "      <td>0.006513</td>\n",
       "    </tr>\n",
       "    <tr>\n",
       "      <th>prevalentHyp</th>\n",
       "      <td>0.005746</td>\n",
       "    </tr>\n",
       "    <tr>\n",
       "      <th>BMI</th>\n",
       "      <td>0.004311</td>\n",
       "    </tr>\n",
       "    <tr>\n",
       "      <th>totChol</th>\n",
       "      <td>0.001870</td>\n",
       "    </tr>\n",
       "    <tr>\n",
       "      <th>male</th>\n",
       "      <td>0.000000</td>\n",
       "    </tr>\n",
       "    <tr>\n",
       "      <th>prevalentStroke</th>\n",
       "      <td>0.000000</td>\n",
       "    </tr>\n",
       "    <tr>\n",
       "      <th>diabetes</th>\n",
       "      <td>0.000000</td>\n",
       "    </tr>\n",
       "  </tbody>\n",
       "</table>\n",
       "</div>"
      ],
      "text/plain": [
       "                  feature\n",
       "age_group        0.453433\n",
       "age              0.154493\n",
       "sysBP            0.121380\n",
       "education        0.115713\n",
       "diaBP            0.053023\n",
       "BPMeds           0.041984\n",
       "cigsPerDay       0.027819\n",
       "glucose          0.007110\n",
       "currentSmoker    0.006605\n",
       "heartRate        0.006513\n",
       "prevalentHyp     0.005746\n",
       "BMI              0.004311\n",
       "totChol          0.001870\n",
       "male             0.000000\n",
       "prevalentStroke  0.000000\n",
       "diabetes         0.000000"
      ]
     },
     "execution_count": 68,
     "metadata": {},
     "output_type": "execute_result"
    }
   ],
   "source": [
    "fe = pd.DataFrame(rfc_smoot.feature_importances_,index=df.drop('TenYearCHD',axis=1).columns\\\n",
    "                  ,columns=['feature'])\n",
    "fe.sort_values(ascending=False,by='feature',inplace=True)\n",
    "fe"
   ]
  },
  {
   "cell_type": "code",
   "execution_count": 69,
   "metadata": {
    "scrolled": true
   },
   "outputs": [
    {
     "data": {
      "text/plain": [
       "<matplotlib.axes._subplots.AxesSubplot at 0x1210d263648>"
      ]
     },
     "execution_count": 69,
     "metadata": {},
     "output_type": "execute_result"
    },
    {
     "data": {
      "image/png": "[encoded data removed]",
      "text/plain": [
       "<Figure size 1080x1080 with 2 Axes>"
      ]
     },
     "metadata": {
      "needs_background": "light"
     },
     "output_type": "display_data"
    }
   ],
   "source": [
    "plt.figure(figsize = (15,15))\n",
    "sns.heatmap(df.drop(['age','diabetes','prevalentStroke','male','prevalentHyp'],axis=1).corr(),cmap=\"BuPu\",annot=True)"
   ]
  },
  {
   "cell_type": "code",
   "execution_count": 70,
   "metadata": {},
   "outputs": [],
   "source": [
    "X_fe=df.drop(['TenYearCHD','age','diabetes','prevalentStroke','male','prevalentHyp'],axis=1)\n",
    "y_fe=df['TenYearCHD']"
   ]
  },
  {
   "cell_type": "code",
   "execution_count": 71,
   "metadata": {},
   "outputs": [],
   "source": [
    "X_train_fe, X_test_fe, y_train_fe, y_test_fe = train_test_split(X_fe,y_fe,\n",
    "                                                    test_size=0.30,random_state=101)"
   ]
  },
  {
   "cell_type": "code",
   "execution_count": 72,
   "metadata": {},
   "outputs": [],
   "source": [
    "X_smote_fe, y_smote_fe = smote.fit_sample(X_train_fe, y_train_fe)"
   ]
  },
  {
   "cell_type": "code",
   "execution_count": 73,
   "metadata": {},
   "outputs": [
    {
     "data": {
      "text/plain": [
       "RandomForestClassifier(max_leaf_nodes=6)"
      ]
     },
     "execution_count": 73,
     "metadata": {},
     "output_type": "execute_result"
    }
   ],
   "source": [
    "rfc_fe= RandomForestClassifier(n_estimators=100,max_leaf_nodes=6)\n",
    "rfc_fe.fit(X_smote_fe,y_smote_fe)"
   ]
  },
  {
   "cell_type": "code",
   "execution_count": 74,
   "metadata": {},
   "outputs": [],
   "source": [
    "rfc_fe_pred = rfc_fe.predict(X_test_fe)"
   ]
  },
  {
   "cell_type": "code",
   "execution_count": 75,
   "metadata": {
    "scrolled": true
   },
   "outputs": [
    {
     "name": "stdout",
     "output_type": "stream",
     "text": [
      "[[717 367]\n",
      " [ 70 116]]\n",
      "              precision    recall  f1-score   support\n",
      "\n",
      "           0       0.91      0.66      0.77      1084\n",
      "           1       0.24      0.62      0.35       186\n",
      "\n",
      "    accuracy                           0.66      1270\n",
      "   macro avg       0.58      0.64      0.56      1270\n",
      "weighted avg       0.81      0.66      0.70      1270\n",
      "\n"
     ]
    }
   ],
   "source": [
    "print(skmet.confusion_matrix(y_test_fe,rfc_fe_pred))\n",
    "print(skmet.classification_report(y_test_fe,rfc_fe_pred))"
   ]
  },
  {
   "cell_type": "code",
   "execution_count": 76,
   "metadata": {},
   "outputs": [],
   "source": [
    "df_scores.loc['Feature Importence with Random Forest',:] = [skmet.precision_score(y_test_fe,rfc_fe_pred)\\\n",
    "                                          ,skmet.recall_score(y_test_fe,rfc_fe_pred)\\\n",
    "                                          ,skmet.f1_score(y_test_fe,rfc_fe_pred)]"
   ]
  },
  {
   "cell_type": "markdown",
   "metadata": {},
   "source": [
    "# Ada Boost Classifier"
   ]
  },
  {
   "cell_type": "code",
   "execution_count": 77,
   "metadata": {},
   "outputs": [],
   "source": [
    "from sklearn.ensemble import AdaBoostClassifier\n",
    "from sklearn import tree"
   ]
  },
  {
   "cell_type": "code",
   "execution_count": 78,
   "metadata": {},
   "outputs": [
    {
     "data": {
      "text/plain": [
       "AdaBoostClassifier(base_estimator=DecisionTreeClassifier(random_state=0))"
      ]
     },
     "execution_count": 78,
     "metadata": {},
     "output_type": "execute_result"
    }
   ],
   "source": [
    "clf = AdaBoostClassifier(tree.DecisionTreeClassifier(random_state=0))\n",
    "clf.fit(X_smote, y_smote)"
   ]
  },
  {
   "cell_type": "code",
   "execution_count": 79,
   "metadata": {},
   "outputs": [],
   "source": [
    "clf_pred = clf.predict(X_test)"
   ]
  },
  {
   "cell_type": "code",
   "execution_count": 80,
   "metadata": {},
   "outputs": [
    {
     "name": "stdout",
     "output_type": "stream",
     "text": [
      "[[989 209]\n",
      " [142  57]]\n",
      "              precision    recall  f1-score   support\n",
      "\n",
      "           0       0.87      0.83      0.85      1198\n",
      "           1       0.21      0.29      0.25       199\n",
      "\n",
      "    accuracy                           0.75      1397\n",
      "   macro avg       0.54      0.56      0.55      1397\n",
      "weighted avg       0.78      0.75      0.76      1397\n",
      "\n"
     ]
    }
   ],
   "source": [
    "print(skmet.confusion_matrix(y_test,clf_pred))\n",
    "print(skmet.classification_report(y_test,clf_pred))"
   ]
  },
  {
   "cell_type": "code",
   "execution_count": 81,
   "metadata": {},
   "outputs": [],
   "source": [
    "df_scores.loc['Ada Boost Classifier',:] = [skmet.precision_score(y_test,clf_pred)\\\n",
    "                                          ,skmet.recall_score(y_test,clf_pred)\\\n",
    "                                          ,skmet.f1_score(y_test,clf_pred)]"
   ]
  },
  {
   "cell_type": "code",
   "execution_count": 82,
   "metadata": {
    "scrolled": true
   },
   "outputs": [
    {
     "data": {
      "text/html": [
       "<div>\n",
       "<style scoped>\n",
       "    .dataframe tbody tr th:only-of-type {\n",
       "        vertical-align: middle;\n",
       "    }\n",
       "\n",
       "    .dataframe tbody tr th {\n",
       "        vertical-align: top;\n",
       "    }\n",
       "\n",
       "    .dataframe thead th {\n",
       "        text-align: right;\n",
       "    }\n",
       "</style>\n",
       "<table border=\"1\" class=\"dataframe\">\n",
       "  <thead>\n",
       "    <tr style=\"text-align: right;\">\n",
       "      <th></th>\n",
       "      <th>presicsion</th>\n",
       "      <th>recall</th>\n",
       "      <th>f1-scores</th>\n",
       "    </tr>\n",
       "  </thead>\n",
       "  <tbody>\n",
       "    <tr>\n",
       "      <th>Logistic Regression</th>\n",
       "      <td>0.709677</td>\n",
       "      <td>0.110553</td>\n",
       "      <td>0.191304</td>\n",
       "    </tr>\n",
       "    <tr>\n",
       "      <th>Logistic Regression with smote</th>\n",
       "      <td>0.219469</td>\n",
       "      <td>0.623116</td>\n",
       "      <td>0.324607</td>\n",
       "    </tr>\n",
       "    <tr>\n",
       "      <th>Ordinary Least Squares with Logistic Regression</th>\n",
       "      <td>0.217899</td>\n",
       "      <td>0.562814</td>\n",
       "      <td>0.314165</td>\n",
       "    </tr>\n",
       "    <tr>\n",
       "      <th>Random Forest</th>\n",
       "      <td>0.642857</td>\n",
       "      <td>0.0452261</td>\n",
       "      <td>0.084507</td>\n",
       "    </tr>\n",
       "    <tr>\n",
       "      <th>Random Forest 0.40</th>\n",
       "      <td>0.217266</td>\n",
       "      <td>0.758794</td>\n",
       "      <td>0.337808</td>\n",
       "    </tr>\n",
       "    <tr>\n",
       "      <th>Random Forest 0.41</th>\n",
       "      <td>0.220117</td>\n",
       "      <td>0.758794</td>\n",
       "      <td>0.341243</td>\n",
       "    </tr>\n",
       "    <tr>\n",
       "      <th>Random Forest 0.42</th>\n",
       "      <td>0.221733</td>\n",
       "      <td>0.758794</td>\n",
       "      <td>0.343182</td>\n",
       "    </tr>\n",
       "    <tr>\n",
       "      <th>Random Forest 0.43</th>\n",
       "      <td>0.223547</td>\n",
       "      <td>0.753769</td>\n",
       "      <td>0.344828</td>\n",
       "    </tr>\n",
       "    <tr>\n",
       "      <th>Random Forest 0.44</th>\n",
       "      <td>0.224888</td>\n",
       "      <td>0.753769</td>\n",
       "      <td>0.34642</td>\n",
       "    </tr>\n",
       "    <tr>\n",
       "      <th>Random Forest 0.45</th>\n",
       "      <td>0.22561</td>\n",
       "      <td>0.743719</td>\n",
       "      <td>0.346199</td>\n",
       "    </tr>\n",
       "    <tr>\n",
       "      <th>Random Forest 0.46</th>\n",
       "      <td>0.229199</td>\n",
       "      <td>0.733668</td>\n",
       "      <td>0.349282</td>\n",
       "    </tr>\n",
       "    <tr>\n",
       "      <th>Random Forest 0.47</th>\n",
       "      <td>0.230146</td>\n",
       "      <td>0.713568</td>\n",
       "      <td>0.348039</td>\n",
       "    </tr>\n",
       "    <tr>\n",
       "      <th>Random Forest 0.48</th>\n",
       "      <td>0.237435</td>\n",
       "      <td>0.688442</td>\n",
       "      <td>0.353093</td>\n",
       "    </tr>\n",
       "    <tr>\n",
       "      <th>Random Forest 0.49</th>\n",
       "      <td>0.239777</td>\n",
       "      <td>0.648241</td>\n",
       "      <td>0.350068</td>\n",
       "    </tr>\n",
       "    <tr>\n",
       "      <th>Naive Bayes</th>\n",
       "      <td>0.256338</td>\n",
       "      <td>0.457286</td>\n",
       "      <td>0.32852</td>\n",
       "    </tr>\n",
       "    <tr>\n",
       "      <th>Voting</th>\n",
       "      <td>0.269972</td>\n",
       "      <td>0.492462</td>\n",
       "      <td>0.348754</td>\n",
       "    </tr>\n",
       "    <tr>\n",
       "      <th>Feature Importence with Random Forest</th>\n",
       "      <td>0.240166</td>\n",
       "      <td>0.623656</td>\n",
       "      <td>0.346786</td>\n",
       "    </tr>\n",
       "    <tr>\n",
       "      <th>Ada Boost Classifier</th>\n",
       "      <td>0.214286</td>\n",
       "      <td>0.286432</td>\n",
       "      <td>0.245161</td>\n",
       "    </tr>\n",
       "  </tbody>\n",
       "</table>\n",
       "</div>"
      ],
      "text/plain": [
       "                                                presicsion     recall  \\\n",
       "Logistic Regression                               0.709677   0.110553   \n",
       "Logistic Regression with smote                    0.219469   0.623116   \n",
       "Ordinary Least Squares with Logistic Regression   0.217899   0.562814   \n",
       "Random Forest                                     0.642857  0.0452261   \n",
       "Random Forest 0.40                                0.217266   0.758794   \n",
       "Random Forest 0.41                                0.220117   0.758794   \n",
       "Random Forest 0.42                                0.221733   0.758794   \n",
       "Random Forest 0.43                                0.223547   0.753769   \n",
       "Random Forest 0.44                                0.224888   0.753769   \n",
       "Random Forest 0.45                                 0.22561   0.743719   \n",
       "Random Forest 0.46                                0.229199   0.733668   \n",
       "Random Forest 0.47                                0.230146   0.713568   \n",
       "Random Forest 0.48                                0.237435   0.688442   \n",
       "Random Forest 0.49                                0.239777   0.648241   \n",
       "Naive Bayes                                       0.256338   0.457286   \n",
       "Voting                                            0.269972   0.492462   \n",
       "Feature Importence with Random Forest             0.240166   0.623656   \n",
       "Ada Boost Classifier                              0.214286   0.286432   \n",
       "\n",
       "                                                f1-scores  \n",
       "Logistic Regression                              0.191304  \n",
       "Logistic Regression with smote                   0.324607  \n",
       "Ordinary Least Squares with Logistic Regression  0.314165  \n",
       "Random Forest                                    0.084507  \n",
       "Random Forest 0.40                               0.337808  \n",
       "Random Forest 0.41                               0.341243  \n",
       "Random Forest 0.42                               0.343182  \n",
       "Random Forest 0.43                               0.344828  \n",
       "Random Forest 0.44                                0.34642  \n",
       "Random Forest 0.45                               0.346199  \n",
       "Random Forest 0.46                               0.349282  \n",
       "Random Forest 0.47                               0.348039  \n",
       "Random Forest 0.48                               0.353093  \n",
       "Random Forest 0.49                               0.350068  \n",
       "Naive Bayes                                       0.32852  \n",
       "Voting                                           0.348754  \n",
       "Feature Importence with Random Forest            0.346786  \n",
       "Ada Boost Classifier                             0.245161  "
      ]
     },
     "execution_count": 82,
     "metadata": {},
     "output_type": "execute_result"
    }
   ],
   "source": [
    "df_scores"
   ]
  },
  {
   "cell_type": "code",
   "execution_count": null,
   "metadata": {},
   "outputs": [],
   "source": []
  },
  {
   "cell_type": "code",
   "execution_count": null,
   "metadata": {},
   "outputs": [],
   "source": []
  }
 ],
 "metadata": {
  "kernelspec": {
   "display_name": "Python 3",
   "language": "python",
   "name": "python3"
  },
  "language_info": {
   "codemirror_mode": {
    "name": "ipython",
    "version": 3
   },
   "file_extension": ".py",
   "mimetype": "text/x-python",
   "name": "python",
   "nbconvert_exporter": "python",
   "pygments_lexer": "ipython3",
   "version": "3.7.6"
  }
 },
 "nbformat": 4,
 "nbformat_minor": 4
}
